{
  "nbformat": 4,
  "nbformat_minor": 0,
  "metadata": {
    "colab": {
      "provenance": [],
      "authorship_tag": "ABX9TyNkqe7pdiZy8n1KwWCKkiAg",
      "include_colab_link": true
    },
    "kernelspec": {
      "name": "python3",
      "display_name": "Python 3"
    },
    "language_info": {
      "name": "python"
    }
  },
  "cells": [
    {
      "cell_type": "markdown",
      "metadata": {
        "id": "view-in-github",
        "colab_type": "text"
      },
      "source": [
        "<a href=\"https://colab.research.google.com/github/Aditya-y9/ApnaMakaan/blob/main/Fitness.ipynb\" target=\"_parent\"><img src=\"https://colab.research.google.com/assets/colab-badge.svg\" alt=\"Open In Colab\"/></a>"
      ]
    },
    {
      "cell_type": "code",
      "source": [
        "from shapely.geometry import Polygon"
      ],
      "metadata": {
        "id": "ApbvT4yYXrSq"
      },
      "execution_count": null,
      "outputs": []
    },
    {
      "cell_type": "markdown",
      "source": [
        "# Centroid"
      ],
      "metadata": {
        "id": "sK02kvh7lIwP"
      }
    },
    {
      "cell_type": "code",
      "source": [
        "def centroid(room):\n",
        "    x1 = room['position'][0]\n",
        "    y1 = room['position'][1]\n",
        "    x2 = room['position'][0] + room['size'][0]\n",
        "    y2 = room['position'][1]\n",
        "    x3 = room['position'][0] + room['size'][0]\n",
        "    y3 = room['position'][1] + room['size'][1]\n",
        "    x4 = room['position'][0]\n",
        "    y4 = room['position'][1] + room['size'][1]\n",
        "    vertices = [(x1, y1), (x2, y2), (x3, y3), (x4, y4)]\n",
        "    n = len(vertices)\n",
        "    A = 0\n",
        "    Cx = 0\n",
        "    Cy = 0\n",
        "\n",
        "    for i in range(n):\n",
        "        x_i, y_i = vertices[i]\n",
        "        x_ip1, y_ip1 = vertices[(i + 1) % n]\n",
        "        cross_product = (x_i * y_ip1) - (x_ip1 * y_i)\n",
        "        A += cross_product\n",
        "        Cx += (x_i + x_ip1) * cross_product\n",
        "        Cy += (y_i + y_ip1) * cross_product\n",
        "\n",
        "    A *= 0.5\n",
        "    Cx /= (6 * A)\n",
        "    Cy /= (6 * A)\n",
        "\n",
        "    return (Cx, Cy)\n"
      ],
      "metadata": {
        "colab": {
          "base_uri": "https://localhost:8080/"
        },
        "id": "82jnp0Arfihl",
        "outputId": "d1fde4c5-dd9c-4546-d388-0f1dec80f742"
      },
      "execution_count": null,
      "outputs": [
        {
          "output_type": "stream",
          "name": "stdout",
          "text": [
            "Centroid: (46.0, 95.5)\n"
          ]
        }
      ]
    },
    {
      "cell_type": "markdown",
      "source": [
        "# Fitness based on Area"
      ],
      "metadata": {
        "id": "OX8RpGX4lOTP"
      }
    },
    {
      "cell_type": "code",
      "execution_count": null,
      "metadata": {
        "id": "9O1G0xA9VTsf"
      },
      "outputs": [],
      "source": [
        "# input like [{'name': 'By_laws', 'position\": (60.8,\n",
        "# 108.8), 'size': (19.2, 11.2)), {'name': 'Living Room', 'position': (12,\n",
        "# 71), 'size': (68, 49)}, {'name': 'Passage', 'position': (0, 25), 'size': (12, 81)}, (name: Kitchen, position: (0, 51), size: (12, 25)), {'name': 'Bedroom1', 'position': (12, 12), 'size': (30, 30)}, ('name':\n",
        "# 'Washroom', 'position': (32, 32), 'size': (7.5, 7)}]\n",
        "\n",
        "def calculate_area_fitness(room):\n",
        "  # input : {'name': 'Living Room', 'position': (12, 71), 'size': (68, 49)}\n",
        "  x1 = room['position'][0]\n",
        "  y1 = room['position'][1]\n",
        "  x2 = room['position'][0] + room['size'][0]\n",
        "  y2 = room['position'][1] + room['size'][1]\n",
        "  coordinates = [(x1, y1), (x2, y1), (x2, y2), (x1, y2)]\n",
        "  polygon = Polygon(coordinates)\n",
        "  area = polygon.area\n",
        "  return area"
      ]
    },
    {
      "cell_type": "markdown",
      "source": [
        "# Fitness based on Irregularity"
      ],
      "metadata": {
        "id": "na2fMa10lSG2"
      }
    },
    {
      "cell_type": "code",
      "source": [
        "import numpy as np\n",
        "\n",
        "def irregularity(room_centroid, plot_vertices):\n",
        "\n",
        "    absolute_distances = []\n",
        "    for vertex in plot_vertices:\n",
        "        distance = np.sqrt((room_centroid[0] - vertex[0])**2 + (room_centroid[1] - vertex[1])**2)\n",
        "        absolute_distances.append(distance)\n",
        "\n",
        "    mean_distance = np.mean(absolute_distances)\n",
        "\n",
        "    irregularity = 0\n",
        "    for distance in absolute_distances:\n",
        "        irregularity += np.abs(distance - mean_distance)\n",
        "    return irregularity\n"
      ],
      "metadata": {
        "id": "EmN69Az147Mr"
      },
      "execution_count": null,
      "outputs": []
    },
    {
      "cell_type": "markdown",
      "source": [
        "# Gradient Penalty for good and bad designs"
      ],
      "metadata": {
        "id": "o6tYO-wUlWTq"
      }
    },
    {
      "cell_type": "code",
      "source": [
        "import math\n",
        "\n",
        "def calculate_distance_fitness(plot_centroid, figure_centroid, distance):\n",
        "    plot_x, plot_y = plot_centroid\n",
        "    figure_x, figure_y = figure_centroid\n",
        "\n",
        "\n",
        "    distance_penalty = distance / max_distance\n",
        "\n",
        "\n",
        "    plot_width = max_plot_width\n",
        "    plot_height = max_plot_height\n",
        "    corner_preference = 1.0\n",
        "\n",
        "\n",
        "    min_x_distance_to_corner = min(figure_x, plot_width - figure_x)\n",
        "    min_y_distance_to_corner = min(figure_y, plot_height - figure_y)\n",
        "\n",
        "    corner_penalty = 1.0 - (min_x_distance_to_corner + min_y_distance_to_corner) / (plot_width + plot_height)\n",
        "\n",
        "\n",
        "    fitness = (1 - corner_preference) * (1 - distance_penalty) + corner_preference * (1 - corner_penalty)\n",
        "\n",
        "    return fitness\n",
        "\n"
      ],
      "metadata": {
        "colab": {
          "base_uri": "https://localhost:8080/"
        },
        "id": "iggoiTjPjnoy",
        "outputId": "6ab6e122-5250-4cab-d18d-66cefa92aa3d"
      },
      "execution_count": null,
      "outputs": [
        {
          "output_type": "stream",
          "name": "stdout",
          "text": [
            "Fitness score: 0.09999999999999998\n"
          ]
        }
      ]
    },
    {
      "cell_type": "markdown",
      "source": [
        "# Simple Gradient"
      ],
      "metadata": {
        "id": "WkkwdlE-mZ7o"
      }
    },
    {
      "cell_type": "code",
      "source": [
        "def calculate_fitness_gradient(distance):\n",
        "\n",
        "    max_distance = 20\n",
        "\n",
        "\n",
        "    if distance <= max_distance:\n",
        "        fitness = distance / max_distance\n",
        "    else:\n",
        "        fitness = 0\n",
        "\n",
        "    return fitness"
      ],
      "metadata": {
        "id": "R2rgTHvGv_KA"
      },
      "execution_count": null,
      "outputs": []
    },
    {
      "cell_type": "markdown",
      "source": [
        "# Boundary Overlap Penalty"
      ],
      "metadata": {
        "id": "XkRcwxwimeqX"
      }
    },
    {
      "cell_type": "code",
      "source": [
        "from shapely.geometry import Polygon, Point\n",
        "from shapely.geometry.polygon import orient\n",
        "\n",
        "def calculate_area(vertices):\n",
        "    # Calculate area of polygon using shoelace formula\n",
        "    n = len(vertices)\n",
        "    area = 0.0\n",
        "    for i in range(n):\n",
        "        x1, y1 = vertices[i]\n",
        "        x2, y2 = vertices[(i + 1) % n]\n",
        "        area += x1 * y2 - y1 * x2\n",
        "    return abs(area) / 2.0\n",
        "\n",
        "def calculate_boundary_overlap_penalty(room_vertices, plot_vertices):\n",
        "\n",
        "    room_polygon = Polygon(room_vertices)\n",
        "    plot_polygon = Polygon(plot_vertices)\n",
        "\n",
        "\n",
        "    room_area = room_polygon.area\n",
        "    plot_area = plot_polygon.area\n",
        "\n",
        "\n",
        "    intersection_area = room_polygon.intersection(plot_polygon).area\n",
        "\n",
        "\n",
        "    if room_area == intersection_area:\n",
        "        boundary_overlap_penalty = 0.0\n",
        "    else:\n",
        "\n",
        "        area_outside_plot = room_area - intersection_area\n",
        "\n",
        "\n",
        "        boundary_overlap_penalty = area_outside_plot / room_area\n",
        "\n",
        "    return boundary_overlap_penalty"
      ],
      "metadata": {
        "id": "xUC5l-IgwCkW"
      },
      "execution_count": null,
      "outputs": []
    },
    {
      "cell_type": "code",
      "source": [
        "\n",
        "def calculate_fitness(self, room_list):\n",
        "  pass"
      ],
      "metadata": {
        "id": "YazNW-Ks8OXD"
      },
      "execution_count": null,
      "outputs": []
    },
    {
      "cell_type": "markdown",
      "source": [
        "# Input"
      ],
      "metadata": {
        "id": "nrbPmCOlmh_4"
      }
    },
    {
      "cell_type": "code",
      "source": [
        "room_list = [{'name': 'Living Room', 'position': (12, 71), 'size': (68, 49)}]"
      ],
      "metadata": {
        "id": "_4QFqsBp8Sah"
      },
      "execution_count": null,
      "outputs": []
    },
    {
      "cell_type": "code",
      "source": [
        "calculate_area_fitness(room_list[0])"
      ],
      "metadata": {
        "colab": {
          "base_uri": "https://localhost:8080/"
        },
        "id": "gqgSSUmZXxzp",
        "outputId": "896899e2-f488-4496-f38d-daaacd6a4c0e"
      },
      "execution_count": null,
      "outputs": [
        {
          "output_type": "execute_result",
          "data": {
            "text/plain": [
              "3332.0"
            ]
          },
          "metadata": {},
          "execution_count": 29
        }
      ]
    },
    {
      "cell_type": "code",
      "source": [
        "print(room_list[0])\n",
        "Cx, Cy = centroid(room_list[0])"
      ],
      "metadata": {
        "colab": {
          "base_uri": "https://localhost:8080/"
        },
        "id": "BDREWkebX4oy",
        "outputId": "008a2a24-e70f-4c62-9ccb-36e72586fdf8"
      },
      "execution_count": null,
      "outputs": [
        {
          "output_type": "stream",
          "name": "stdout",
          "text": [
            "{'name': 'Living Room', 'position': (12, 71), 'size': (68, 49)}\n"
          ]
        }
      ]
    },
    {
      "cell_type": "markdown",
      "source": [
        "# Generate and Visualize the Plot"
      ],
      "metadata": {
        "id": "PdX0490B0T_-"
      }
    },
    {
      "cell_type": "code",
      "source": [
        "import numpy as np\n",
        "import matplotlib.pyplot as plt\n",
        "import random\n",
        "from pix_array import floorArray\n",
        "\n",
        "# Function to find length and breadth with a fixed ratio\n",
        "def find_length_breadth_fixed_ratio(area, skewness=1.6):\n",
        "    breadth = int((area / skewness) ** 0.5)\n",
        "    length = int(skewness * breadth)\n",
        "    return length, breadth\n",
        "\n",
        "# Function to check if a rectangle can be placed inside the plot\n",
        "def is_rectangle_inside_plot(plot, vertex, length, breadth):\n",
        "    x, y = vertex\n",
        "    if x < 0 or y < 0 or x + length > plot.shape[1] or y + breadth > plot.shape[0]:\n",
        "        return False\n",
        "    for i in range(y, y + breadth):\n",
        "        for j in range(x, x + length):\n",
        "            if plot[i, j] == 0:\n",
        "                return False\n",
        "    return True\n",
        "\n",
        "# Function to mark a room on the plot\n",
        "def mark_room_on_plot(plot, vertex, length, breadth):\n",
        "    x, y = vertex\n",
        "    for i in range(y, y + breadth):\n",
        "        for j in range(x, x + length):\n",
        "            plot[i, j] = 0\n",
        "\n",
        "# Function to get boundary coordinates of a rectangle\n",
        "def get_boundary_coordinates(vertex, length, breadth):\n",
        "    x, y = vertex\n",
        "    left_boundary = [(x - 1, i) for i in range(y, y + breadth)]\n",
        "    right_boundary = [(x + length, i) for i in range(y, y + breadth)]\n",
        "    top_boundary = [(j, y - 1) for j in range(x, x + length)]\n",
        "    bottom_boundary = [(j, y + breadth) for j in range(x, x + length)]\n",
        "    return left_boundary, top_boundary, right_boundary, bottom_boundary\n",
        "\n",
        "# Function to find a room position inside the plot\n",
        "def find_room_position(plot, length, breadth, inside_coords, max_attempts=1000):\n",
        "    for attempt in range(max_attempts):\n",
        "        idx = random.randint(0, len(inside_coords) - 1)\n",
        "        vertex = tuple(inside_coords[idx])\n",
        "        if is_rectangle_inside_plot(plot, vertex, length, breadth):\n",
        "            return vertex\n",
        "    raise ValueError(\"Unable to find a valid position for the room within the maximum number of attempts.\")\n",
        "\n",
        "# Function to select a random boundary point\n",
        "def select_random_boundary_point(boundaries):\n",
        "    side = random.choice(['left', 'top', 'right', 'bottom'])\n",
        "    if side == 'left':\n",
        "        return random.choice(boundaries[0]), 'left'\n",
        "    elif side == 'top':\n",
        "        return random.choice(boundaries[1]), 'top'\n",
        "    elif side == 'right':\n",
        "        return random.choice(boundaries[2]), 'right'\n",
        "    else:  # 'bottom'\n",
        "        return random.choice(boundaries[3]), 'bottom'\n",
        "\n",
        "# Function to adjust vertex for a given side\n",
        "def adjust_vertex_for_side(vertex, side, length, breadth):\n",
        "    x, y = vertex\n",
        "    if side == 'left':\n",
        "        return (x - length, y)\n",
        "    elif side == 'top':\n",
        "        return (x, y - breadth)\n",
        "    elif side == 'right':\n",
        "        return (x + 1, y)\n",
        "    elif side == 'bottom':\n",
        "        return (x, y + 1)\n",
        "\n",
        "# Load the binary plot from the image\n",
        "path = \"/content/test_plot.png\"\n",
        "binary_plot = floorArray(path)\n",
        "og_floor_array = np.copy(binary_plot)\n",
        "plot_area = np.sum(binary_plot)\n",
        "\n",
        "# Define room specifications\n",
        "rooms = [\n",
        "    {\"name\": \"living room\", \"area_percentage\": 0.10, \"skewness\": 1.6},\n",
        "    {\"name\": \"passage\", \"area_percentage\": 0.05, \"skewness\": random.uniform(1.6, 2)},\n",
        "    {\"name\": \"kitchen\", \"area_percentage\": 0.05, \"skewness\": random.uniform(1.6, 2)},\n",
        "    {\"name\": \"bathroom\", \"area_percentage\": 0.025, \"skewness\": random.uniform(1.6, 2)},\n",
        "    {\"name\": \"bedroom\", \"area_percentage\": 0.075, \"skewness\": random.uniform(1.6, 2)}\n",
        "]\n",
        "\n",
        "room_positions = {}\n",
        "inside_coords = np.argwhere(binary_plot == 1)\n",
        "boundary_points_passage = None\n",
        "boundary_points_living_room = None\n",
        "\n",
        "for room in rooms:\n",
        "    room_area = plot_area * room[\"area_percentage\"]\n",
        "    length, breadth = find_length_breadth_fixed_ratio(room_area, room[\"skewness\"])\n",
        "    print(f\"{room['name'].capitalize()} - Length: {length}, Breadth: {breadth}\")\n",
        "\n",
        "    try:\n",
        "        if room[\"name\"] == \"living room\":\n",
        "            vertex = find_room_position(binary_plot, length, breadth, inside_coords)\n",
        "            mark_room_on_plot(binary_plot, vertex, length, breadth)\n",
        "            print(f\"Vertex: {vertex}, Length: {length}, Breadth: {breadth}\")\n",
        "            room_positions[room[\"name\"]] = {\"vertex\": vertex, \"length\": length, \"breadth\": breadth}\n",
        "            left_boundary, top_boundary, right_boundary, bottom_boundary = get_boundary_coordinates(vertex, length, breadth)\n",
        "            boundary_points_living_room = (left_boundary, top_boundary, right_boundary, bottom_boundary)\n",
        "\n",
        "        elif room[\"name\"] == \"passage\":\n",
        "            if boundary_points_living_room is None:\n",
        "                raise ValueError(\"Boundary points for the living room are not set.\")\n",
        "\n",
        "            for attempt in range(10000):\n",
        "                boundary_vertex, side = select_random_boundary_point(boundary_points_living_room)\n",
        "\n",
        "                if random.choice([True, False]):\n",
        "                    new_length, new_breadth = length, breadth\n",
        "                else:\n",
        "                    new_length, new_breadth = breadth, length\n",
        "\n",
        "                adjusted_vertex = adjust_vertex_for_side(boundary_vertex, side, new_length, new_breadth)\n",
        "                if is_rectangle_inside_plot(binary_plot, adjusted_vertex, new_length, new_breadth):\n",
        "                    mark_room_on_plot(binary_plot, adjusted_vertex, new_length, new_breadth)\n",
        "                    print(f\"New Vertex: {adjusted_vertex}, New Length: {new_length}, New Breadth: {new_breadth}\")\n",
        "                    room_positions[room[\"name\"]] = {\"vertex\": adjusted_vertex, \"length\": new_length, \"breadth\": new_breadth}\n",
        "                    left_boundary, top_boundary, right_boundary, bottom_boundary = get_boundary_coordinates(adjusted_vertex, new_length, new_breadth)\n",
        "                    boundary_points_passage = (left_boundary, top_boundary, right_boundary, bottom_boundary)\n",
        "                    break\n",
        "            else:\n",
        "                print(f\"Unable to place the {room['name']} at any selected boundary vertex within the maximum attempts.\")\n",
        "\n",
        "        else:\n",
        "            if boundary_points_passage is None:\n",
        "                raise ValueError(\"Boundary points for the passage are not set.\")\n",
        "\n",
        "            for attempt in range(10000):\n",
        "                boundary_vertex, side = select_random_boundary_point(boundary_points_passage)\n",
        "\n",
        "                if random.choice([True, False]):\n",
        "                    new_length, new_breadth = length, breadth\n",
        "                else:\n",
        "                    new_length, new_breadth = breadth, length\n",
        "\n",
        "                adjusted_vertex = adjust_vertex_for_side(boundary_vertex, side, new_length, new_breadth)\n",
        "                if is_rectangle_inside_plot(binary_plot, adjusted_vertex, new_length, new_breadth):\n",
        "                    mark_room_on_plot(binary_plot, adjusted_vertex, new_length, new_breadth)\n",
        "                    print(f\"New Vertex: {adjusted_vertex}, New Length: {new_length}, New Breadth: {new_breadth}\")\n",
        "                    room_positions[room[\"name\"]] = {\"vertex\": adjusted_vertex, \"length\": new_length, \"breadth\": new_breadth}\n",
        "                    break\n",
        "            else:\n",
        "                print(f\"Unable to place the {room['name']} at any selected boundary vertex within the maximum attempts.\")\n",
        "    except ValueError as e:\n",
        "        print(e)\n",
        "\n",
        "# Save the final plot as a 2D array\n",
        "np.savetxt('final_plot.txt', binary_plot, fmt='%d')\n",
        "\n",
        "# Visualize the plot using matplotlib\n",
        "plt.figure(figsize=(10, 10))\n",
        "plt.imshow(binary_plot, cmap='gray_r', interpolation='nearest')\n",
        "plt.title('Final Room Layout')\n",
        "plt.show()\n",
        "\n",
        "print(room_positions)\n"
      ],
      "metadata": {
        "colab": {
          "base_uri": "https://localhost:8080/",
          "height": 874
        },
        "id": "KYD8ga5a0Y9J",
        "outputId": "be30eec2-1329-48ea-efce-ab84be4e45e6"
      },
      "execution_count": null,
      "outputs": [
        {
          "output_type": "stream",
          "name": "stdout",
          "text": [
            "Living room - Length: 136, Breadth: 85\n",
            "Vertex: (340, 290), Length: 136, Breadth: 85\n",
            "Passage - Length: 98, Breadth: 58\n",
            "New Vertex: (241, 320), New Length: 98, New Breadth: 58\n",
            "Kitchen - Length: 105, Breadth: 55\n",
            "New Vertex: (326, 379), New Length: 105, New Breadth: 55\n",
            "Bathroom - Length: 73, Breadth: 40\n",
            "New Vertex: (268, 246), New Length: 40, New Breadth: 73\n",
            "Bedroom - Length: 128, Breadth: 69\n",
            "Unable to place the bedroom at any selected boundary vertex within the maximum attempts.\n"
          ]
        },
        {
          "output_type": "display_data",
          "data": {
            "text/plain": [
              "<Figure size 1000x1000 with 1 Axes>"
            ],
            "image/png": "[encoded data removed]"
          },
          "metadata": {}
        },
        {
          "output_type": "stream",
          "name": "stdout",
          "text": [
            "{'living room': {'vertex': (340, 290), 'length': 136, 'breadth': 85}, 'passage': {'vertex': (241, 320), 'length': 98, 'breadth': 58}, 'kitchen': {'vertex': (326, 379), 'length': 105, 'breadth': 55}, 'bathroom': {'vertex': (268, 246), 'length': 40, 'breadth': 73}}\n"
          ]
        }
      ]
    },
    {
      "cell_type": "markdown",
      "source": [
        "# Slope Fitness Function"
      ],
      "metadata": {
        "id": "M9QiSrJZ1CmB"
      }
    },
    {
      "cell_type": "code",
      "source": [
        "#TODO : Add co-ordinate check also after checking the slopes ; there might be parallel lines.\n",
        "\n",
        "def check_connection(room1,room2,room_list):\n",
        "    # room = {\"name\": \"Living Room\", \"position\": (0, 0), \"size\": (0, 1)}\n",
        "    # room_list = [{\"name\": \"Living Room\", \"position\": (0, 0), \"size\": (0, 1)}, {\"name\": \"Bedroom1\", \"position\": (0, 0), \"size\": (0, 1)}]\n",
        "    room1_x = room1['position'][0]\n",
        "    room1_y = room1['position'][1]\n",
        "    room1_width = room1['size'][0]\n",
        "    room1_height = room1['size'][1]\n",
        "\n",
        "    coords1 = [(room1_x, room1_y), (room1_x + room1_width, room1_y), (room1_x + room1_width, room1_y + room1_height), (room1_x, room1_y + room1_height)]\n",
        "\n",
        "\n",
        "    room_slopes1 = [(coords1[1][1] - coords1[0][1]) / (coords1[1][0] - coords1[0][0]), (coords1[2][1] - coords1[1][1]) / (coords1[2][0] - coords1[1][0]), (coords1[3][1] - coords1[2][1]) / (coords1[3][0] - coords1[2][0]), (coords1[0][1] - coords1[3][1]) / (coords1[0][0] - coords1[3][0])]\n",
        "\n",
        "    room2_x = room2['position'][0]\n",
        "    room2_y = room2['position'][1]\n",
        "\n",
        "    room2_width = room2['size'][0]\n",
        "    room2_height = room2['size'][1]\n",
        "\n",
        "    coords2 = [(room2_x, room2_y), (room2_x + room2_width, room2_y), (room2_x + room2_width, room2_y + room2_height), (room2_x, room2_y + room2_height)]\n",
        "\n",
        "    room_slopes2 = [(coords2[1][1] - coords2[0][1]) / (coords2[1][0] - coords2[0][0]), (coords2[2][1] - coords2[1][1]) / (coords2[2][0] - coords2[1][0]), (coords2[3][1] - coords2[2][1]) / (coords2[3][0] - coords2[2][0]), (coords2[0][1] - coords2[3][1]) / (coords2[0][0] - coords2[3][0])]\n",
        "\n",
        "\n",
        "    for i in range(4):\n",
        "        for j in range(4):\n",
        "            if room_slopes1[i] == room_slopes2[j]:\n",
        "                return True\n",
        "\n",
        "    return False\n"
      ],
      "metadata": {
        "id": "vVOEuLFor5NF"
      },
      "execution_count": null,
      "outputs": []
    },
    {
      "cell_type": "markdown",
      "source": [
        "# Fitness considering Skewness"
      ],
      "metadata": {
        "id": "nq8KLCsZG59l"
      }
    },
    {
      "cell_type": "code",
      "source": [
        "import numpy as np\n",
        "\n",
        "# Perfect aspect ratios for each room type\n",
        "perfect_aspect_ratios = {\n",
        "    \"living room\": random.uniform(1.4,1.8)\n",
        "    \"passage\": random.uniform(1.6,2),\n",
        "    \"kitchen\": random.uniform(1.6,2),\n",
        "    \"bathroom\":random.uniform(1.6,2),\n",
        "    \"bedroom1\": random.uniform(1..6,2)\n",
        "}\n",
        "\n",
        "def calculate_aspect_ratio(length, breadth):\n",
        "    if length == 0 or breadth == 0:\n",
        "        return 0\n",
        "    return max(length / breadth, breadth / length)\n",
        "\n",
        "def skewness(room_list):\n",
        "    fitness = 0\n",
        "    for room in room_list:\n",
        "        room_name = room[\"name\"].lower()\n",
        "        length, breadth = room[\"size\"]\n",
        "        aspect_ratio = calculate_aspect_ratio(length, breadth)\n",
        "\n",
        "        if room_name in perfect_aspect_ratios:\n",
        "            perfect_ratio = perfect_aspect_ratios[room_name]\n",
        "            deviation = abs(aspect_ratio - perfect_ratio)\n",
        "            fitness += 1 / (1 + deviation)\n",
        "\n",
        "    return fitness / len(room_list)\n",
        "\n",
        "# Example input\n",
        "room_list = [{\"name\": \"Living Room\", \"position\": (0, 0), \"size\": (1, 1)}, {\"name\": \"Bedroom1\", \"position\": (0, 0), \"size\": (1, 1.8)}]\n",
        "\n",
        "fitness_value = skewness(room_list)\n",
        "print(\"Skewness\", fitness_value)\n"
      ],
      "metadata": {
        "colab": {
          "base_uri": "https://localhost:8080/"
        },
        "id": "SERDBuUhHBEd",
        "outputId": "fc11afd7-9bd5-49c7-d20b-4d04428e9994"
      },
      "execution_count": null,
      "outputs": [
        {
          "output_type": "stream",
          "name": "stdout",
          "text": [
            "Skewness 0.8125\n"
          ]
        }
      ]
    },
    {
      "cell_type": "markdown",
      "source": [
        "# Fitness Considering Distribution"
      ],
      "metadata": {
        "id": "lYnbd_N3MEMu"
      }
    },
    {
      "cell_type": "code",
      "source": [
        "import numpy as np\n",
        "\n",
        "def calculate_room_center(position, size):\n",
        "    x, y = position\n",
        "    length, breadth = size\n",
        "    center_x = x + length / 2\n",
        "    center_y = y + breadth / 2\n",
        "    return center_x, center_y\n",
        "\n",
        "def calculate_distance(point1, point2):\n",
        "    return np.sqrt((point1[0] - point2[0]) ** 2 + (point1[1] - point2[1]) ** 2)\n",
        "\n",
        "def fitness_function_distribution(room_list, plot_centroid):\n",
        "    distances = []\n",
        "    for room in room_list:\n",
        "        room_center = calculate_room_center(room[\"position\"], room[\"size\"])\n",
        "        distance = calculate_distance(room_center, plot_centroid)\n",
        "        distances.append(distance)\n",
        "\n",
        "    # Calculate the mean distance and standard deviation of distances\n",
        "    mean_distance = np.mean(distances)\n",
        "    std_distance = np.std(distances)\n",
        "\n",
        "    # Fitness is inversely proportional to the standard deviation of distances\n",
        "    fitness = 1 / (1 + std_distance)  # The lower the std dev, the higher the fitness\n",
        "\n",
        "    return fitness\n",
        "\n",
        "# Example input\n",
        "room_list = [\n",
        "    {\"name\": \"Living Room\", \"position\": (2, 3), \"size\": (6, 4)},\n",
        "    {\"name\": \"Bedroom1\", \"position\": (10, 8), \"size\": (5, 3)},\n",
        "    {\"name\": \"Kitchen\", \"position\": (6, 5), \"size\": (4, 4)}\n",
        "]\n",
        "\n",
        "plot_centroid = (8, 6)  # Example centroid of the plot\n",
        "\n",
        "fitness_value = fitness_function_distribution(room_list, plot_centroid)\n",
        "print(\"Fitness Value:\", fitness_value)\n"
      ],
      "metadata": {
        "id": "8brkgzXEMHxL"
      },
      "execution_count": null,
      "outputs": []
    },
    {
      "cell_type": "markdown",
      "source": [
        "# Fitness considering Slant Walls (Irregularity 2)"
      ],
      "metadata": {
        "id": "NDBiPet5MKco"
      }
    },
    {
      "cell_type": "code",
      "source": [
        "def get_slopes(room1,room2,room_list):\n",
        "    # room = {\"name\": \"Living Room\", \"position\": (0, 0), \"size\": (0, 1)}\n",
        "    # room_list = [{\"name\": \"Living Room\", \"position\": (0, 0), \"size\": (0, 1)}, {\"name\": \"Bedroom1\", \"position\": (0, 0), \"size\": (0, 1)}]\n",
        "    room1_x = room1['position'][0]\n",
        "    room1_y = room1['position'][1]\n",
        "    room1_width = room1['size'][0]\n",
        "    room1_height = room1['size'][1]\n",
        "\n",
        "    coords1 = [(room1_x, room1_y), (room1_x + room1_width, room1_y), (room1_x + room1_width, room1_y + room1_height), (room1_x, room1_y + room1_height)]\n",
        "\n",
        "\n",
        "    room_slopes1 = [(coords1[1][1] - coords1[0][1]) / (coords1[1][0] - coords1[0][0]), (coords1[2][1] - coords1[1][1]) / (coords1[2][0] - coords1[1][0]), (coords1[3][1] - coords1[2][1]) / (coords1[3][0] - coords1[2][0]), (coords1[0][1] - coords1[3][1]) / (coords1[0][0] - coords1[3][0])]\n",
        "\n",
        "    return room_slopes1\n",
        "\n",
        "\n",
        "def slant_fitness(room_list):\n",
        "    irregularity = 0\n",
        "    for room in room_list:\n",
        "        room_slopes = get_slopes(room,room,room_list)\n",
        "        for i in range(4):\n",
        "            if room_slopes[i] != 1 or room_slopes[i] != -1 or room_slopes[i] != 0:\n",
        "                irregularity += 1\n",
        "    return 4*len(room_list) - irregularity"
      ],
      "metadata": {
        "id": "AKNiLCMFMRcn"
      },
      "execution_count": null,
      "outputs": []
    },
    {
      "cell_type": "code",
      "source": [
        "binary_plot = np.loadtxt('/content/final_plot.txt', dtype=int)"
      ],
      "metadata": {
        "id": "PLBcJksvjb61"
      },
      "execution_count": null,
      "outputs": []
    },
    {
      "cell_type": "code",
      "source": [
        "# Visualize the plot using matplotlib\n",
        "plt.figure(figsize=(10, 10))\n",
        "plt.imshow(binary_plot, cmap='gray_r', interpolation='nearest')\n",
        "plt.title('Final Room Layout')\n",
        "plt.show()\n",
        "\n",
        "print(room_positions)"
      ],
      "metadata": {
        "colab": {
          "base_uri": "https://localhost:8080/",
          "height": 700
        },
        "id": "rDoJUItYjh51",
        "outputId": "c6f59912-d46c-4f00-8c85-f23b400e1151"
      },
      "execution_count": null,
      "outputs": [
        {
          "output_type": "display_data",
          "data": {
            "text/plain": [
              "<Figure size 1000x1000 with 1 Axes>"
            ],
            "image/png": "[encoded data removed]"
          },
          "metadata": {}
        },
        {
          "output_type": "stream",
          "name": "stdout",
          "text": [
            "{'living room': {'vertex': (340, 290), 'length': 136, 'breadth': 85}, 'passage': {'vertex': (241, 320), 'length': 98, 'breadth': 58}, 'kitchen': {'vertex': (326, 379), 'length': 105, 'breadth': 55}, 'bathroom': {'vertex': (268, 246), 'length': 40, 'breadth': 73}}\n"
          ]
        }
      ]
    },
    {
      "cell_type": "code",
      "source": [
        "\n"
      ],
      "metadata": {
        "colab": {
          "base_uri": "https://localhost:8080/"
        },
        "id": "jgkxdlGrwJ_T",
        "outputId": "cbecb10e-a9b6-42f7-f267-98499b011718"
      },
      "execution_count": null,
      "outputs": [
        {
          "output_type": "stream",
          "name": "stdout",
          "text": [
            "Centroid of the plot: [295.48111487 390.49556817]\n",
            "Centroid of the plot (rounded): [295 390]\n"
          ]
        }
      ]
    }
  ]
}