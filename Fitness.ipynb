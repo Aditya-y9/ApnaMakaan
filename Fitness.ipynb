{
  "nbformat": 4,
  "nbformat_minor": 0,
  "metadata": {
    "colab": {
      "provenance": [],
      "authorship_tag": "ABX9TyPQ6jIWNN2E6r7Ifwr7GkCF",
      "include_colab_link": true
    },
    "kernelspec": {
      "name": "python3",
      "display_name": "Python 3"
    },
    "language_info": {
      "name": "python"
    }
  },
  "cells": [
    {
      "cell_type": "markdown",
      "metadata": {
        "id": "view-in-github",
        "colab_type": "text"
      },
      "source": [
        "<a href=\"https://colab.research.google.com/github/Aditya-y9/ApnaMakaan/blob/main/Fitness.ipynb\" target=\"_parent\"><img src=\"https://colab.research.google.com/assets/colab-badge.svg\" alt=\"Open In Colab\"/></a>"
      ]
    },
    {
      "cell_type": "code",
      "source": [
        "from shapely.geometry import Polygon"
      ],
      "metadata": {
        "id": "ApbvT4yYXrSq"
      },
      "execution_count": 27,
      "outputs": []
    },
    {
      "cell_type": "code",
      "source": [
        "def centroid(room):\n",
        "    x1 = room['position'][0]\n",
        "    y1 = room['position'][1]\n",
        "    x2 = room['position'][0] + room['size'][0]\n",
        "    y2 = room['position'][1]\n",
        "    x3 = room['position'][0] + room['size'][0]\n",
        "    y3 = room['position'][1] + room['size'][1]\n",
        "    x4 = room['position'][0]\n",
        "    y4 = room['position'][1] + room['size'][1]\n",
        "    vertices = [(x1, y1), (x2, y2), (x3, y3), (x4, y4)]\n",
        "    n = len(vertices)\n",
        "    A = 0\n",
        "    Cx = 0\n",
        "    Cy = 0\n",
        "\n",
        "    for i in range(n):\n",
        "        x_i, y_i = vertices[i]\n",
        "        x_ip1, y_ip1 = vertices[(i + 1) % n]  # i+1 modulo n to wrap around to the first vertex\n",
        "        cross_product = (x_i * y_ip1) - (x_ip1 * y_i)\n",
        "        A += cross_product\n",
        "        Cx += (x_i + x_ip1) * cross_product\n",
        "        Cy += (y_i + y_ip1) * cross_product\n",
        "\n",
        "    A *= 0.5\n",
        "    Cx /= (6 * A)\n",
        "    Cy /= (6 * A)\n",
        "\n",
        "    return (Cx, Cy)\n"
      ],
      "metadata": {
        "colab": {
          "base_uri": "https://localhost:8080/"
        },
        "id": "82jnp0Arfihl",
        "outputId": "d1fde4c5-dd9c-4546-d388-0f1dec80f742"
      },
      "execution_count": 36,
      "outputs": [
        {
          "output_type": "stream",
          "name": "stdout",
          "text": [
            "Centroid: (46.0, 95.5)\n"
          ]
        }
      ]
    },
    {
      "cell_type": "code",
      "execution_count": 28,
      "metadata": {
        "id": "9O1G0xA9VTsf"
      },
      "outputs": [],
      "source": [
        "# input like [{'name': 'By_laws', 'position\": (60.8,\n",
        "# 108.8), 'size': (19.2, 11.2)), {'name': 'Living Room', 'position': (12,\n",
        "# 71), 'size': (68, 49)}, {'name': 'Passage', 'position': (0, 25), 'size': (12, 81)}, (name: Kitchen, position: (0, 51), size: (12, 25)), {'name': 'Bedroom1', 'position': (12, 12), 'size': (30, 30)}, ('name':\n",
        "# 'Washroom', 'position': (32, 32), 'size': (7.5, 7)}]\n",
        "\n",
        "def calculate_area_fitness(room):\n",
        "  # input : {'name': 'Living Room', 'position': (12, 71), 'size': (68, 49)}\n",
        "  x1 = room['position'][0]\n",
        "  y1 = room['position'][1]\n",
        "  x2 = room['position'][0] + room['size'][0]\n",
        "  y2 = room['position'][1] + room['size'][1]\n",
        "  coordinates = [(x1, y1), (x2, y1), (x2, y2), (x1, y2)]\n",
        "  polygon = Polygon(coordinates)\n",
        "  area = polygon.area\n",
        "  return area"
      ]
    },
    {
      "cell_type": "code",
      "source": [
        "import numpy as np\n",
        "\n",
        "def irregularity(room_centroid, plot_vertices):\n",
        "    # Calculate distances from room centroid to plot edges\n",
        "    absolute_distances = []\n",
        "    for vertex in plot_vertices:\n",
        "        distance = np.sqrt((room_centroid[0] - vertex[0])**2 + (room_centroid[1] - vertex[1])**2)\n",
        "        absolute_distances.append(distance)\n",
        "    # Calculate the mean distance\n",
        "    mean_distance = np.mean(absolute_distances)\n",
        "    # Calculate the irregularity\n",
        "    irregularity = 0\n",
        "    for distance in absolute_distances:\n",
        "        irregularity += np.abs(distance - mean_distance)\n",
        "    return irregularity\n"
      ],
      "metadata": {
        "id": "EmN69Az147Mr"
      },
      "execution_count": 41,
      "outputs": []
    },
    {
      "cell_type": "code",
      "source": [
        "import math\n",
        "\n",
        "def calculate_distance_fitness(plot_centroid, figure_centroid, distance):\n",
        "    plot_x, plot_y = plot_centroid\n",
        "    figure_x, figure_y = figure_centroid\n",
        "\n",
        "    # Distance penalty\n",
        "    distance_penalty = distance / max_distance  # Normalize distance\n",
        "\n",
        "    # Corner preference\n",
        "    plot_width = max_plot_width  # Adjust as per your plot size\n",
        "    plot_height = max_plot_height  # Adjust as per your plot size\n",
        "    corner_preference = 1.0  # Maximum preference for corners\n",
        "\n",
        "    # Calculate proximity to corners\n",
        "    min_x_distance_to_corner = min(figure_x, plot_width - figure_x)\n",
        "    min_y_distance_to_corner = min(figure_y, plot_height - figure_y)\n",
        "\n",
        "    corner_penalty = 1.0 - (min_x_distance_to_corner + min_y_distance_to_corner) / (plot_width + plot_height)\n",
        "\n",
        "    # Combine penalties with a smooth gradient\n",
        "    fitness = (1 - corner_preference) * (1 - distance_penalty) + corner_preference * (1 - corner_penalty)\n",
        "\n",
        "    return fitness\n",
        "\n",
        "# Example usage:\n",
        "plot_centroid = (5, 9)  # Example plot centroid coordinates\n",
        "figure_centroid = (3, 5)  # Example living room figure centroid coordinates\n",
        "distance_between_centroids = math.sqrt((plot_centroid[0] - figure_centroid[0])**2 + (plot_centroid[1] - figure_centroid[1])**2)\n",
        "\n",
        "# Constants for normalization or specific plot dimensions\n",
        "max_distance = 20  # Maximum expected distance between centroids\n",
        "max_plot_width = 10.0  # Maximum width of the plot\n",
        "max_plot_height = 10.0  # Maximum height of the plot\n",
        "\n",
        "fitness_score = 0.5 - calculate_distance_fitness(plot_centroid, figure_centroid, distance_between_centroids)\n",
        "print(f\"Fitness score: {fitness_score}\")\n"
      ],
      "metadata": {
        "colab": {
          "base_uri": "https://localhost:8080/"
        },
        "id": "iggoiTjPjnoy",
        "outputId": "6ab6e122-5250-4cab-d18d-66cefa92aa3d"
      },
      "execution_count": 43,
      "outputs": [
        {
          "output_type": "stream",
          "name": "stdout",
          "text": [
            "Fitness score: 0.09999999999999998\n"
          ]
        }
      ]
    },
    {
      "cell_type": "code",
      "source": [
        "def calculate_fitness_gradient(distance):\n",
        "    # Define a maximum reasonable distance for normalization\n",
        "    max_distance = 20.0  # Adjust based on your scenario\n",
        "\n",
        "    # Calculate fitness based on distance\n",
        "    if distance <= max_distance:\n",
        "        fitness = 1.0 - (distance / max_distance)\n",
        "    else:\n",
        "        fitness = 0.0  # If distance exceeds max_distance, fitness is 0\n",
        "\n",
        "    return fitness"
      ],
      "metadata": {
        "id": "R2rgTHvGv_KA"
      },
      "execution_count": 39,
      "outputs": []
    },
    {
      "cell_type": "code",
      "source": [
        "from shapely.geometry import Polygon, Point\n",
        "from shapely.geometry.polygon import orient\n",
        "\n",
        "def calculate_area(vertices):\n",
        "    # Calculate area of polygon using shoelace formula\n",
        "    n = len(vertices)\n",
        "    area = 0.0\n",
        "    for i in range(n):\n",
        "        x1, y1 = vertices[i]\n",
        "        x2, y2 = vertices[(i + 1) % n]\n",
        "        area += x1 * y2 - y1 * x2\n",
        "    return abs(area) / 2.0\n",
        "\n",
        "def calculate_boundary_overlap_penalty(room_vertices, plot_vertices):\n",
        "    # Create Shapely Polygon objects\n",
        "    room_polygon = Polygon(room_vertices)\n",
        "    plot_polygon = Polygon(plot_vertices)\n",
        "\n",
        "    # Calculate area of room and plot\n",
        "    room_area = room_polygon.area\n",
        "    plot_area = plot_polygon.area\n",
        "\n",
        "    # Calculate intersection area\n",
        "    intersection_area = room_polygon.intersection(plot_polygon).area\n",
        "\n",
        "    # Check if the room is completely within the plot\n",
        "    if room_area == intersection_area:\n",
        "        boundary_overlap_penalty = 0.0  # Room is completely within the plot\n",
        "    else:\n",
        "        # Calculate area outside the plot\n",
        "        area_outside_plot = room_area - intersection_area\n",
        "\n",
        "        # Penalize proportional to area outside the plot\n",
        "        boundary_overlap_penalty = area_outside_plot / room_area\n",
        "\n",
        "    return boundary_overlap_penalty"
      ],
      "metadata": {
        "id": "xUC5l-IgwCkW"
      },
      "execution_count": 40,
      "outputs": []
    },
    {
      "cell_type": "code",
      "source": [
        "\n",
        "def calculate_fitness(self, room_list):\n",
        "  pass"
      ],
      "metadata": {
        "id": "YazNW-Ks8OXD"
      },
      "execution_count": 42,
      "outputs": []
    },
    {
      "cell_type": "code",
      "source": [
        "room_list = [{'name': 'Living Room', 'position': (12, 71), 'size': (68, 49)}]"
      ],
      "metadata": {
        "id": "_4QFqsBp8Sah"
      },
      "execution_count": null,
      "outputs": []
    },
    {
      "cell_type": "code",
      "source": [
        "calculate_area_fitness(room_list[0])"
      ],
      "metadata": {
        "colab": {
          "base_uri": "https://localhost:8080/"
        },
        "id": "gqgSSUmZXxzp",
        "outputId": "896899e2-f488-4496-f38d-daaacd6a4c0e"
      },
      "execution_count": 29,
      "outputs": [
        {
          "output_type": "execute_result",
          "data": {
            "text/plain": [
              "3332.0"
            ]
          },
          "metadata": {},
          "execution_count": 29
        }
      ]
    },
    {
      "cell_type": "code",
      "source": [
        "print(room_list[0])\n",
        "Cx, Cy = centroid(room_list[0])"
      ],
      "metadata": {
        "colab": {
          "base_uri": "https://localhost:8080/"
        },
        "id": "BDREWkebX4oy",
        "outputId": "008a2a24-e70f-4c62-9ccb-36e72586fdf8"
      },
      "execution_count": 37,
      "outputs": [
        {
          "output_type": "stream",
          "name": "stdout",
          "text": [
            "{'name': 'Living Room', 'position': (12, 71), 'size': (68, 49)}\n"
          ]
        }
      ]
    }
  ]
}